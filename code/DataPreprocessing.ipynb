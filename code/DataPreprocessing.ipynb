{
 "cells": [
  {
   "cell_type": "markdown",
   "metadata": {
    "papermill": {
     "duration": 0.014503,
     "end_time": "2020-10-05T19:43:00.611431",
     "exception": false,
     "start_time": "2020-10-05T19:43:00.596928",
     "status": "completed"
    },
    "tags": []
   },
   "source": [
    "## Preprocess data for training"
   ]
  },
  {
   "cell_type": "markdown",
   "metadata": {
    "papermill": {
     "duration": 0.012836,
     "end_time": "2020-10-05T19:43:00.637621",
     "exception": false,
     "start_time": "2020-10-05T19:43:00.624785",
     "status": "completed"
    },
    "tags": []
   },
   "source": [
    "### Load data"
   ]
  },
  {
   "cell_type": "code",
   "execution_count": 1,
   "metadata": {
    "_cell_guid": "79c7e3d0-c299-4dcb-8224-4455121ee9b0",
    "_uuid": "d629ff2d2480ee46fbb7e2d37f6b5fab8052498a",
    "execution": {
     "iopub.execute_input": "2020-10-05T19:43:00.674162Z",
     "iopub.status.busy": "2020-10-05T19:43:00.673150Z",
     "iopub.status.idle": "2020-10-05T19:43:01.614360Z",
     "shell.execute_reply": "2020-10-05T19:43:01.613560Z"
    },
    "papermill": {
     "duration": 0.963716,
     "end_time": "2020-10-05T19:43:01.614504",
     "exception": false,
     "start_time": "2020-10-05T19:43:00.650788",
     "status": "completed"
    },
    "tags": []
   },
   "outputs": [],
   "source": [
    "from pandas import read_csv\n",
    "\n",
    "data = read_csv(\"../input/rainbow-store/VinIDRecruitChallenge_MLTrack_DataSet.csv\")"
   ]
  },
  {
   "cell_type": "markdown",
   "metadata": {
    "papermill": {
     "duration": 0.014989,
     "end_time": "2020-10-05T19:43:01.643595",
     "exception": false,
     "start_time": "2020-10-05T19:43:01.628606",
     "status": "completed"
    },
    "tags": []
   },
   "source": [
    "### Make sure data is sorted by customer id"
   ]
  },
  {
   "cell_type": "code",
   "execution_count": 2,
   "metadata": {
    "execution": {
     "iopub.execute_input": "2020-10-05T19:43:01.687539Z",
     "iopub.status.busy": "2020-10-05T19:43:01.686741Z",
     "iopub.status.idle": "2020-10-05T19:43:01.772194Z",
     "shell.execute_reply": "2020-10-05T19:43:01.771419Z"
    },
    "papermill": {
     "duration": 0.115158,
     "end_time": "2020-10-05T19:43:01.772330",
     "exception": false,
     "start_time": "2020-10-05T19:43:01.657172",
     "status": "completed"
    },
    "tags": []
   },
   "outputs": [],
   "source": [
    "data = data.sort_values(by=['csn'])"
   ]
  },
  {
   "cell_type": "markdown",
   "metadata": {
    "papermill": {
     "duration": 0.013654,
     "end_time": "2020-10-05T19:43:01.800164",
     "exception": false,
     "start_time": "2020-10-05T19:43:01.786510",
     "status": "completed"
    },
    "tags": []
   },
   "source": [
    "### Check if there is any customer purchase at least twice in the same day"
   ]
  },
  {
   "cell_type": "code",
   "execution_count": 3,
   "metadata": {
    "execution": {
     "iopub.execute_input": "2020-10-05T19:43:01.847756Z",
     "iopub.status.busy": "2020-10-05T19:43:01.846581Z",
     "iopub.status.idle": "2020-10-05T19:43:01.889730Z",
     "shell.execute_reply": "2020-10-05T19:43:01.889013Z"
    },
    "papermill": {
     "duration": 0.075678,
     "end_time": "2020-10-05T19:43:01.889877",
     "exception": false,
     "start_time": "2020-10-05T19:43:01.814199",
     "status": "completed"
    },
    "tags": []
   },
   "outputs": [
    {
     "data": {
      "text/plain": [
       "False"
      ]
     },
     "execution_count": 3,
     "metadata": {},
     "output_type": "execute_result"
    }
   ],
   "source": [
    "True in data.duplicated(subset=['csn', 'date'], keep=False).tolist()"
   ]
  },
  {
   "cell_type": "markdown",
   "metadata": {
    "papermill": {
     "duration": 0.013916,
     "end_time": "2020-10-05T19:43:01.918591",
     "exception": false,
     "start_time": "2020-10-05T19:43:01.904675",
     "status": "completed"
    },
    "tags": []
   },
   "source": [
    "### Features extraction from transaction info"
   ]
  },
  {
   "cell_type": "markdown",
   "metadata": {
    "papermill": {
     "duration": 0.013777,
     "end_time": "2020-10-05T19:43:01.946701",
     "exception": false,
     "start_time": "2020-10-05T19:43:01.932924",
     "status": "completed"
    },
    "tags": []
   },
   "source": [
    "transaction_info <- count of items in each group + quantity + price"
   ]
  },
  {
   "cell_type": "code",
   "execution_count": 4,
   "metadata": {
    "execution": {
     "iopub.execute_input": "2020-10-05T19:43:01.985875Z",
     "iopub.status.busy": "2020-10-05T19:43:01.984875Z",
     "iopub.status.idle": "2020-10-05T19:43:02.098643Z",
     "shell.execute_reply": "2020-10-05T19:43:02.097695Z"
    },
    "papermill": {
     "duration": 0.13777,
     "end_time": "2020-10-05T19:43:02.098805",
     "exception": false,
     "start_time": "2020-10-05T19:43:01.961035",
     "status": "completed"
    },
    "tags": []
   },
   "outputs": [],
   "source": [
    "from json import loads\n",
    "from pickle import load\n",
    "\n",
    "# loads clustered item groups\n",
    "with open('../input/rainbow-store/cluster.pkl', 'rb') as file:\n",
    "    cluster = load(file)\n",
    "    groups = 38\n",
    "    \n",
    "def extract(info):\n",
    "    inf = loads(info.replace(\"\\'\", \"\\\"\"))\n",
    "    features = [0 for group in range(groups)] # count number of items in each group\n",
    "    count = 0 # total count\n",
    "    price = 0 # total price\n",
    "    for item in inf:\n",
    "        quantity = item['salesquantity']\n",
    "        count += quantity\n",
    "        price += item['price']\n",
    "        article = item['article']\n",
    "        if article in cluster:\n",
    "            features[cluster[article]] += quantity\n",
    "    features.append(count)\n",
    "    features.append(price)\n",
    "    return features"
   ]
  },
  {
   "cell_type": "markdown",
   "metadata": {
    "papermill": {
     "duration": 0.014281,
     "end_time": "2020-10-05T19:43:02.128768",
     "exception": false,
     "start_time": "2020-10-05T19:43:02.114487",
     "status": "completed"
    },
    "tags": []
   },
   "source": [
    "### Make a dictionary containing data for each customer"
   ]
  },
  {
   "cell_type": "markdown",
   "metadata": {
    "papermill": {
     "duration": 0.014167,
     "end_time": "2020-10-05T19:43:02.158853",
     "exception": false,
     "start_time": "2020-10-05T19:43:02.144686",
     "status": "completed"
    },
    "tags": []
   },
   "source": [
    "dic <- {customer: {date: transaction_info}}"
   ]
  },
  {
   "cell_type": "code",
   "execution_count": 5,
   "metadata": {
    "execution": {
     "iopub.execute_input": "2020-10-05T19:43:02.212790Z",
     "iopub.status.busy": "2020-10-05T19:43:02.207261Z",
     "iopub.status.idle": "2020-10-05T19:43:23.496886Z",
     "shell.execute_reply": "2020-10-05T19:43:23.496037Z"
    },
    "papermill": {
     "duration": 21.323739,
     "end_time": "2020-10-05T19:43:23.497056",
     "exception": false,
     "start_time": "2020-10-05T19:43:02.173317",
     "status": "completed"
    },
    "tags": []
   },
   "outputs": [
    {
     "data": {
      "text/plain": [
       "0"
      ]
     },
     "execution_count": 5,
     "metadata": {},
     "output_type": "execute_result"
    }
   ],
   "source": [
    "from datetime import datetime\n",
    "from gc import collect\n",
    "\n",
    "dic = {}\n",
    "for index, row in data.iterrows():\n",
    "    customer = row['csn']\n",
    "    if customer not in dic:\n",
    "        dic[customer] = {}\n",
    "    dic[customer][datetime.strptime(row['date'], '%Y-%m-%d')] = extract(row['transaction_info'])\n",
    "    \n",
    "del data\n",
    "collect()"
   ]
  },
  {
   "cell_type": "markdown",
   "metadata": {
    "papermill": {
     "duration": 0.014557,
     "end_time": "2020-10-05T19:43:23.526574",
     "exception": false,
     "start_time": "2020-10-05T19:43:23.512017",
     "status": "completed"
    },
    "tags": []
   },
   "source": [
    "### Visualize date data"
   ]
  },
  {
   "cell_type": "code",
   "execution_count": 6,
   "metadata": {
    "execution": {
     "iopub.execute_input": "2020-10-05T19:43:23.596556Z",
     "iopub.status.busy": "2020-10-05T19:43:23.595773Z",
     "iopub.status.idle": "2020-10-05T19:43:24.415982Z",
     "shell.execute_reply": "2020-10-05T19:43:24.415293Z"
    },
    "papermill": {
     "duration": 0.874611,
     "end_time": "2020-10-05T19:43:24.416145",
     "exception": false,
     "start_time": "2020-10-05T19:43:23.541534",
     "status": "completed"
    },
    "tags": []
   },
   "outputs": [
    {
     "data": {
      "image/png": "[encoded data removed]",
      "text/plain": [
       "<Figure size 432x288 with 1 Axes>"
      ]
     },
     "metadata": {
      "needs_background": "light"
     },
     "output_type": "display_data"
    }
   ],
   "source": [
    "import matplotlib.pyplot as plt\n",
    "\n",
    "dates = []\n",
    "for customer in dic:\n",
    "    for date in dic[customer]:\n",
    "        dates.append(date)\n",
    "plt.hist(dates)\n",
    "plt.show()"
   ]
  },
  {
   "cell_type": "markdown",
   "metadata": {
    "papermill": {
     "duration": 0.014748,
     "end_time": "2020-10-05T19:43:24.446478",
     "exception": false,
     "start_time": "2020-10-05T19:43:24.431730",
     "status": "completed"
    },
    "tags": []
   },
   "source": [
    "Dataset was recorded from start of Feb until late Jun"
   ]
  },
  {
   "cell_type": "markdown",
   "metadata": {
    "papermill": {
     "duration": 0.014456,
     "end_time": "2020-10-05T19:43:24.475826",
     "exception": false,
     "start_time": "2020-10-05T19:43:24.461370",
     "status": "completed"
    },
    "tags": []
   },
   "source": [
    "### Transform data by month"
   ]
  },
  {
   "cell_type": "markdown",
   "metadata": {
    "papermill": {
     "duration": 0.014522,
     "end_time": "2020-10-05T19:43:24.505241",
     "exception": false,
     "start_time": "2020-10-05T19:43:24.490719",
     "status": "completed"
    },
    "tags": []
   },
   "source": [
    "transaction_info <- transaction_info + time different"
   ]
  },
  {
   "cell_type": "markdown",
   "metadata": {
    "papermill": {
     "duration": 0.014643,
     "end_time": "2020-10-05T19:43:24.534909",
     "exception": false,
     "start_time": "2020-10-05T19:43:24.520266",
     "status": "completed"
    },
    "tags": []
   },
   "source": [
    "dic2 <- {customer: {month: transaction_info}}"
   ]
  },
  {
   "cell_type": "code",
   "execution_count": 7,
   "metadata": {
    "execution": {
     "iopub.execute_input": "2020-10-05T19:43:24.605416Z",
     "iopub.status.busy": "2020-10-05T19:43:24.600095Z",
     "iopub.status.idle": "2020-10-05T19:43:25.184082Z",
     "shell.execute_reply": "2020-10-05T19:43:25.183479Z"
    },
    "papermill": {
     "duration": 0.634201,
     "end_time": "2020-10-05T19:43:25.184219",
     "exception": false,
     "start_time": "2020-10-05T19:43:24.550018",
     "status": "completed"
    },
    "tags": []
   },
   "outputs": [
    {
     "data": {
      "text/plain": [
       "0"
      ]
     },
     "execution_count": 7,
     "metadata": {},
     "output_type": "execute_result"
    }
   ],
   "source": [
    "dic2 = {}\n",
    "for customer in dic:\n",
    "    dic2[customer] = {}\n",
    "    for m in range(2, 7):\n",
    "        dic2[customer][m] = []\n",
    "    last_date = -1\n",
    "    cus = dic[customer]\n",
    "    for date in sorted(cus):\n",
    "        m = date.month\n",
    "        features = cus[date]\n",
    "        \n",
    "        # append time between purchases\n",
    "        if last_date == -1: # first purchase\n",
    "            features.append(0)\n",
    "        else:\n",
    "            features.append((date - last_date).days)\n",
    "            \n",
    "        dic2[customer][m].append(features)\n",
    "        last_date = date\n",
    "\n",
    "del dic\n",
    "collect()"
   ]
  },
  {
   "cell_type": "markdown",
   "metadata": {
    "papermill": {
     "duration": 0.015611,
     "end_time": "2020-10-05T19:43:25.216543",
     "exception": false,
     "start_time": "2020-10-05T19:43:25.200932",
     "status": "completed"
    },
    "tags": []
   },
   "source": [
    "### Transform data into features and labels"
   ]
  },
  {
   "cell_type": "markdown",
   "metadata": {
    "papermill": {
     "duration": 0.015215,
     "end_time": "2020-10-05T19:43:25.247386",
     "exception": false,
     "start_time": "2020-10-05T19:43:25.232171",
     "status": "completed"
    },
    "tags": []
   },
   "source": [
    "features <- transaction_info in 2 months"
   ]
  },
  {
   "cell_type": "markdown",
   "metadata": {
    "papermill": {
     "duration": 0.015797,
     "end_time": "2020-10-05T19:43:25.278667",
     "exception": false,
     "start_time": "2020-10-05T19:43:25.262870",
     "status": "completed"
    },
    "tags": []
   },
   "source": [
    "label <- next month"
   ]
  },
  {
   "cell_type": "code",
   "execution_count": 8,
   "metadata": {
    "execution": {
     "iopub.execute_input": "2020-10-05T19:43:25.323682Z",
     "iopub.status.busy": "2020-10-05T19:43:25.318720Z",
     "iopub.status.idle": "2020-10-05T19:43:25.405230Z",
     "shell.execute_reply": "2020-10-05T19:43:25.404544Z"
    },
    "papermill": {
     "duration": 0.111142,
     "end_time": "2020-10-05T19:43:25.405383",
     "exception": false,
     "start_time": "2020-10-05T19:43:25.294241",
     "status": "completed"
    },
    "tags": []
   },
   "outputs": [],
   "source": [
    "features = []\n",
    "labels = []\n",
    "features_test = [] # data for prediction\n",
    "customers = [] # list of customers\n",
    "\n",
    "for customer in dic2:\n",
    "    cus = dic2[customer]\n",
    "    prev_2 = cus[2]\n",
    "    prev_1 = cus[3]\n",
    "    for m in range(4, 7):\n",
    "        example = prev_2 + prev_1\n",
    "        if len(example) > 0: # remove example in which there is no transaction\n",
    "            features.append(example)\n",
    "            prev_2 = prev_1\n",
    "            prev_1 = cus[m]\n",
    "            if len(prev_1) > 0:\n",
    "                labels.append(1)\n",
    "            else:\n",
    "                labels.append(0)\n",
    "     \n",
    "    # prepare data for prediction\n",
    "    example = cus[5] + cus[6]\n",
    "    if len(example) > 0:\n",
    "        features_test.append(example)\n",
    "        customers.append(customer)"
   ]
  },
  {
   "cell_type": "markdown",
   "metadata": {
    "papermill": {
     "duration": 0.015499,
     "end_time": "2020-10-05T19:43:25.436648",
     "exception": false,
     "start_time": "2020-10-05T19:43:25.421149",
     "status": "completed"
    },
    "tags": []
   },
   "source": [
    "### Number of examples"
   ]
  },
  {
   "cell_type": "markdown",
   "metadata": {
    "papermill": {
     "duration": 0.015242,
     "end_time": "2020-10-05T19:43:25.467573",
     "exception": false,
     "start_time": "2020-10-05T19:43:25.452331",
     "status": "completed"
    },
    "tags": []
   },
   "source": [
    "### Save dataset"
   ]
  },
  {
   "cell_type": "code",
   "execution_count": 9,
   "metadata": {
    "execution": {
     "iopub.execute_input": "2020-10-05T19:43:25.505101Z",
     "iopub.status.busy": "2020-10-05T19:43:25.504366Z",
     "iopub.status.idle": "2020-10-05T19:43:25.758213Z",
     "shell.execute_reply": "2020-10-05T19:43:25.757415Z"
    },
    "papermill": {
     "duration": 0.275223,
     "end_time": "2020-10-05T19:43:25.758356",
     "exception": false,
     "start_time": "2020-10-05T19:43:25.483133",
     "status": "completed"
    },
    "tags": []
   },
   "outputs": [],
   "source": [
    "from pickle import dump\n",
    "\n",
    "with open('data.pkl', 'wb') as file:\n",
    "    dump([features, labels, features_test, customers], file, protocol=-1)"
   ]
  },
  {
   "cell_type": "code",
   "execution_count": null,
   "metadata": {
    "papermill": {
     "duration": 0.015396,
     "end_time": "2020-10-05T19:43:25.789572",
     "exception": false,
     "start_time": "2020-10-05T19:43:25.774176",
     "status": "completed"
    },
    "tags": []
   },
   "outputs": [],
   "source": []
  }
 ],
 "metadata": {
  "kernelspec": {
   "display_name": "Python 3",
   "language": "python",
   "name": "python3"
  },
  "language_info": {
   "codemirror_mode": {
    "name": "ipython",
    "version": 3
   },
   "file_extension": ".py",
   "mimetype": "text/x-python",
   "name": "python",
   "nbconvert_exporter": "python",
   "pygments_lexer": "ipython3",
   "version": "3.7.6"
  },
  "papermill": {
   "duration": 30.231465,
   "end_time": "2020-10-05T19:43:25.913085",
   "environment_variables": {},
   "exception": null,
   "input_path": "__notebook__.ipynb",
   "output_path": "__notebook__.ipynb",
   "parameters": {},
   "start_time": "2020-10-05T19:42:55.681620",
   "version": "2.1.0"
  }
 },
 "nbformat": 4,
 "nbformat_minor": 4
}
