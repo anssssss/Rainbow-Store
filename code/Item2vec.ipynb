{
 "cells": [
  {
   "cell_type": "markdown",
   "metadata": {
    "papermill": {
     "duration": 0.017375,
     "end_time": "2020-10-05T05:41:15.543095",
     "exception": false,
     "start_time": "2020-10-05T05:41:15.525720",
     "status": "completed"
    },
    "tags": []
   },
   "source": [
    "## Present items as vectors"
   ]
  },
  {
   "cell_type": "markdown",
   "metadata": {
    "papermill": {
     "duration": 0.01452,
     "end_time": "2020-10-05T05:41:15.572837",
     "exception": false,
     "start_time": "2020-10-05T05:41:15.558317",
     "status": "completed"
    },
    "tags": []
   },
   "source": [
    "### Load data"
   ]
  },
  {
   "cell_type": "code",
   "execution_count": 1,
   "metadata": {
    "execution": {
     "iopub.execute_input": "2020-10-05T05:41:15.610827Z",
     "iopub.status.busy": "2020-10-05T05:41:15.610152Z",
     "iopub.status.idle": "2020-10-05T05:41:16.350224Z",
     "shell.execute_reply": "2020-10-05T05:41:16.349332Z"
    },
    "papermill": {
     "duration": 0.762206,
     "end_time": "2020-10-05T05:41:16.350342",
     "exception": false,
     "start_time": "2020-10-05T05:41:15.588136",
     "status": "completed"
    },
    "tags": []
   },
   "outputs": [
    {
     "data": {
      "text/html": [
       "<div>\n",
       "<style scoped>\n",
       "    .dataframe tbody tr th:only-of-type {\n",
       "        vertical-align: middle;\n",
       "    }\n",
       "\n",
       "    .dataframe tbody tr th {\n",
       "        vertical-align: top;\n",
       "    }\n",
       "\n",
       "    .dataframe thead th {\n",
       "        text-align: right;\n",
       "    }\n",
       "</style>\n",
       "<table border=\"1\" class=\"dataframe\">\n",
       "  <thead>\n",
       "    <tr style=\"text-align: right;\">\n",
       "      <th></th>\n",
       "      <th>csn</th>\n",
       "      <th>date</th>\n",
       "      <th>transaction_info</th>\n",
       "    </tr>\n",
       "  </thead>\n",
       "  <tbody>\n",
       "    <tr>\n",
       "      <th>0</th>\n",
       "      <td>Y2NgaWJoYw==</td>\n",
       "      <td>2018-03-02</td>\n",
       "      <td>[{'article': '10020163', 'salesquantity': 2.0,...</td>\n",
       "    </tr>\n",
       "    <tr>\n",
       "      <th>1</th>\n",
       "      <td>Y2NgaWJoYw==</td>\n",
       "      <td>2018-03-04</td>\n",
       "      <td>[{'article': '10026562', 'salesquantity': 3.0,...</td>\n",
       "    </tr>\n",
       "    <tr>\n",
       "      <th>2</th>\n",
       "      <td>Y2NgaWlpYA==</td>\n",
       "      <td>2018-02-27</td>\n",
       "      <td>[{'article': '10013531', 'salesquantity': 1.0,...</td>\n",
       "    </tr>\n",
       "    <tr>\n",
       "      <th>3</th>\n",
       "      <td>Y2NgaWlpYA==</td>\n",
       "      <td>2018-03-16</td>\n",
       "      <td>[{'article': '10008991', 'salesquantity': 1.0,...</td>\n",
       "    </tr>\n",
       "    <tr>\n",
       "      <th>4</th>\n",
       "      <td>Y2NgaWlpYA==</td>\n",
       "      <td>2018-05-24</td>\n",
       "      <td>[{'article': '10009698', 'salesquantity': 1.0,...</td>\n",
       "    </tr>\n",
       "    <tr>\n",
       "      <th>...</th>\n",
       "      <td>...</td>\n",
       "      <td>...</td>\n",
       "      <td>...</td>\n",
       "    </tr>\n",
       "    <tr>\n",
       "      <th>131789</th>\n",
       "      <td>amxpamJk</td>\n",
       "      <td>2018-03-24</td>\n",
       "      <td>[{'article': '10324916', 'salesquantity': 1.0,...</td>\n",
       "    </tr>\n",
       "    <tr>\n",
       "      <th>131790</th>\n",
       "      <td>amxpamJk</td>\n",
       "      <td>2018-04-07</td>\n",
       "      <td>[{'article': '10012785', 'salesquantity': 1.0,...</td>\n",
       "    </tr>\n",
       "    <tr>\n",
       "      <th>131791</th>\n",
       "      <td>amxpamJk</td>\n",
       "      <td>2018-04-21</td>\n",
       "      <td>[{'article': '10083185', 'salesquantity': 1.0,...</td>\n",
       "    </tr>\n",
       "    <tr>\n",
       "      <th>131792</th>\n",
       "      <td>amxpamJk</td>\n",
       "      <td>2018-05-20</td>\n",
       "      <td>[{'article': '10054789', 'salesquantity': 0.50...</td>\n",
       "    </tr>\n",
       "    <tr>\n",
       "      <th>131793</th>\n",
       "      <td>amxpbWNk</td>\n",
       "      <td>2018-04-11</td>\n",
       "      <td>[{'article': '10016399', 'salesquantity': 2.0,...</td>\n",
       "    </tr>\n",
       "  </tbody>\n",
       "</table>\n",
       "<p>131794 rows × 3 columns</p>\n",
       "</div>"
      ],
      "text/plain": [
       "                 csn        date  \\\n",
       "0       Y2NgaWJoYw==  2018-03-02   \n",
       "1       Y2NgaWJoYw==  2018-03-04   \n",
       "2       Y2NgaWlpYA==  2018-02-27   \n",
       "3       Y2NgaWlpYA==  2018-03-16   \n",
       "4       Y2NgaWlpYA==  2018-05-24   \n",
       "...              ...         ...   \n",
       "131789      amxpamJk  2018-03-24   \n",
       "131790      amxpamJk  2018-04-07   \n",
       "131791      amxpamJk  2018-04-21   \n",
       "131792      amxpamJk  2018-05-20   \n",
       "131793      amxpbWNk  2018-04-11   \n",
       "\n",
       "                                         transaction_info  \n",
       "0       [{'article': '10020163', 'salesquantity': 2.0,...  \n",
       "1       [{'article': '10026562', 'salesquantity': 3.0,...  \n",
       "2       [{'article': '10013531', 'salesquantity': 1.0,...  \n",
       "3       [{'article': '10008991', 'salesquantity': 1.0,...  \n",
       "4       [{'article': '10009698', 'salesquantity': 1.0,...  \n",
       "...                                                   ...  \n",
       "131789  [{'article': '10324916', 'salesquantity': 1.0,...  \n",
       "131790  [{'article': '10012785', 'salesquantity': 1.0,...  \n",
       "131791  [{'article': '10083185', 'salesquantity': 1.0,...  \n",
       "131792  [{'article': '10054789', 'salesquantity': 0.50...  \n",
       "131793  [{'article': '10016399', 'salesquantity': 2.0,...  \n",
       "\n",
       "[131794 rows x 3 columns]"
      ]
     },
     "execution_count": 1,
     "metadata": {},
     "output_type": "execute_result"
    }
   ],
   "source": [
    "from pandas import read_csv\n",
    "\n",
    "data = read_csv(\"../input/rainbow-store/VinIDRecruitChallenge_MLTrack_DataSet.csv\")\n",
    "data"
   ]
  },
  {
   "cell_type": "markdown",
   "metadata": {
    "papermill": {
     "duration": 0.015712,
     "end_time": "2020-10-05T05:41:16.381828",
     "exception": false,
     "start_time": "2020-10-05T05:41:16.366116",
     "status": "completed"
    },
    "tags": []
   },
   "source": [
    "### Preprocess data"
   ]
  },
  {
   "cell_type": "markdown",
   "metadata": {
    "papermill": {
     "duration": 0.016679,
     "end_time": "2020-10-05T05:41:16.413994",
     "exception": false,
     "start_time": "2020-10-05T05:41:16.397315",
     "status": "completed"
    },
    "tags": []
   },
   "source": [
    "purchase list example"
   ]
  },
  {
   "cell_type": "code",
   "execution_count": 2,
   "metadata": {
    "execution": {
     "iopub.execute_input": "2020-10-05T05:41:16.455444Z",
     "iopub.status.busy": "2020-10-05T05:41:16.451217Z",
     "iopub.status.idle": "2020-10-05T05:41:16.464006Z",
     "shell.execute_reply": "2020-10-05T05:41:16.464485Z"
    },
    "papermill": {
     "duration": 0.0356,
     "end_time": "2020-10-05T05:41:16.464604",
     "exception": false,
     "start_time": "2020-10-05T05:41:16.429004",
     "status": "completed"
    },
    "tags": []
   },
   "outputs": [
    {
     "data": {
      "text/plain": [
       "\"[{'article': '10026562', 'salesquantity': 3.0, 'price': 13000.0}, {'article': '10320883', 'salesquantity': 2.0, 'price': 43000.0}]\""
      ]
     },
     "execution_count": 2,
     "metadata": {},
     "output_type": "execute_result"
    }
   ],
   "source": [
    "data['transaction_info'][1]"
   ]
  },
  {
   "cell_type": "markdown",
   "metadata": {
    "papermill": {
     "duration": 0.01601,
     "end_time": "2020-10-05T05:41:16.496716",
     "exception": false,
     "start_time": "2020-10-05T05:41:16.480706",
     "status": "completed"
    },
    "tags": []
   },
   "source": [
    "Convert transaction info to Python representation"
   ]
  },
  {
   "cell_type": "code",
   "execution_count": 3,
   "metadata": {
    "execution": {
     "iopub.execute_input": "2020-10-05T05:41:16.617616Z",
     "iopub.status.busy": "2020-10-05T05:41:16.546884Z",
     "iopub.status.idle": "2020-10-05T05:41:19.055944Z",
     "shell.execute_reply": "2020-10-05T05:41:19.054777Z"
    },
    "papermill": {
     "duration": 2.54351,
     "end_time": "2020-10-05T05:41:19.056065",
     "exception": false,
     "start_time": "2020-10-05T05:41:16.512555",
     "status": "completed"
    },
    "tags": []
   },
   "outputs": [],
   "source": [
    "from json import loads\n",
    "\n",
    "data['info'] = [loads(js.replace(\"\\'\", \"\\\"\")) for js in data['transaction_info']]"
   ]
  },
  {
   "cell_type": "markdown",
   "metadata": {
    "papermill": {
     "duration": 0.016152,
     "end_time": "2020-10-05T05:41:19.089180",
     "exception": false,
     "start_time": "2020-10-05T05:41:19.073028",
     "status": "completed"
    },
    "tags": []
   },
   "source": [
    "List of rare items"
   ]
  },
  {
   "cell_type": "code",
   "execution_count": 4,
   "metadata": {
    "execution": {
     "iopub.execute_input": "2020-10-05T05:41:19.149570Z",
     "iopub.status.busy": "2020-10-05T05:41:19.144474Z",
     "iopub.status.idle": "2020-10-05T05:41:19.907651Z",
     "shell.execute_reply": "2020-10-05T05:41:19.908833Z"
    },
    "papermill": {
     "duration": 0.804083,
     "end_time": "2020-10-05T05:41:19.909044",
     "exception": false,
     "start_time": "2020-10-05T05:41:19.104961",
     "status": "completed"
    },
    "tags": []
   },
   "outputs": [],
   "source": [
    "lst = []\n",
    "for transaction in data['info']:\n",
    "    for item in transaction:\n",
    "        lst.append(item['article'])\n",
    "dic = {}\n",
    "for item in lst:\n",
    "    dic[item] = dic.get(item, 0) + 1\n",
    "rare = []\n",
    "for item in dic:\n",
    "    if dic[item] < 5:\n",
    "        rare.append(item)\n"
   ]
  },
  {
   "cell_type": "code",
   "execution_count": 5,
   "metadata": {
    "execution": {
     "iopub.execute_input": "2020-10-05T05:41:19.970167Z",
     "iopub.status.busy": "2020-10-05T05:41:19.969180Z",
     "iopub.status.idle": "2020-10-05T05:41:19.973173Z",
     "shell.execute_reply": "2020-10-05T05:41:19.970994Z"
    },
    "papermill": {
     "duration": 0.037973,
     "end_time": "2020-10-05T05:41:19.973331",
     "exception": false,
     "start_time": "2020-10-05T05:41:19.935358",
     "status": "completed"
    },
    "tags": []
   },
   "outputs": [
    {
     "data": {
      "text/plain": [
       "993512"
      ]
     },
     "execution_count": 5,
     "metadata": {},
     "output_type": "execute_result"
    }
   ],
   "source": [
    "len(lst)"
   ]
  },
  {
   "cell_type": "markdown",
   "metadata": {
    "papermill": {
     "duration": 0.025585,
     "end_time": "2020-10-05T05:41:20.023665",
     "exception": false,
     "start_time": "2020-10-05T05:41:19.998080",
     "status": "completed"
    },
    "tags": []
   },
   "source": [
    "complete purchase list data"
   ]
  },
  {
   "cell_type": "code",
   "execution_count": 6,
   "metadata": {
    "execution": {
     "iopub.execute_input": "2020-10-05T05:41:20.106023Z",
     "iopub.status.busy": "2020-10-05T05:41:20.105093Z",
     "iopub.status.idle": "2020-10-05T05:41:20.109288Z",
     "shell.execute_reply": "2020-10-05T05:41:20.110025Z"
    },
    "papermill": {
     "duration": 0.045821,
     "end_time": "2020-10-05T05:41:20.110209",
     "exception": false,
     "start_time": "2020-10-05T05:41:20.064388",
     "status": "completed"
    },
    "tags": []
   },
   "outputs": [],
   "source": [
    "def convert(js):\n",
    "    lst = []\n",
    "    for item in js:\n",
    "        article = item['article']\n",
    "        if article in rare:\n",
    "            lst.append('Rare')\n",
    "        else:\n",
    "            lst.append(article)\n",
    "    return lst"
   ]
  },
  {
   "cell_type": "code",
   "execution_count": 7,
   "metadata": {
    "execution": {
     "iopub.execute_input": "2020-10-05T05:41:20.172380Z",
     "iopub.status.busy": "2020-10-05T05:41:20.171530Z",
     "iopub.status.idle": "2020-10-05T05:48:42.110283Z",
     "shell.execute_reply": "2020-10-05T05:48:42.109554Z"
    },
    "papermill": {
     "duration": 441.974865,
     "end_time": "2020-10-05T05:48:42.110425",
     "exception": false,
     "start_time": "2020-10-05T05:41:20.135560",
     "status": "completed"
    },
    "tags": []
   },
   "outputs": [],
   "source": [
    "purchase = [convert(js) for js in data['info']]"
   ]
  },
  {
   "cell_type": "markdown",
   "metadata": {
    "papermill": {
     "duration": 0.017207,
     "end_time": "2020-10-05T05:48:42.146770",
     "exception": false,
     "start_time": "2020-10-05T05:48:42.129563",
     "status": "completed"
    },
    "tags": []
   },
   "source": [
    "data comprehension"
   ]
  },
  {
   "cell_type": "code",
   "execution_count": 8,
   "metadata": {
    "execution": {
     "iopub.execute_input": "2020-10-05T05:48:42.203840Z",
     "iopub.status.busy": "2020-10-05T05:48:42.202836Z",
     "iopub.status.idle": "2020-10-05T05:48:42.207110Z",
     "shell.execute_reply": "2020-10-05T05:48:42.206553Z"
    },
    "papermill": {
     "duration": 0.042817,
     "end_time": "2020-10-05T05:48:42.207218",
     "exception": false,
     "start_time": "2020-10-05T05:48:42.164401",
     "status": "completed"
    },
    "tags": []
   },
   "outputs": [
    {
     "data": {
      "text/plain": [
       "162"
      ]
     },
     "execution_count": 8,
     "metadata": {},
     "output_type": "execute_result"
    }
   ],
   "source": [
    "# maximum number of different items in a purchase\n",
    "max([len(pur) for pur in purchase])"
   ]
  },
  {
   "cell_type": "markdown",
   "metadata": {
    "papermill": {
     "duration": 0.017243,
     "end_time": "2020-10-05T05:48:42.242474",
     "exception": false,
     "start_time": "2020-10-05T05:48:42.225231",
     "status": "completed"
    },
    "tags": []
   },
   "source": [
    "### Create items embedding"
   ]
  },
  {
   "cell_type": "code",
   "execution_count": 9,
   "metadata": {
    "execution": {
     "iopub.execute_input": "2020-10-05T05:48:42.284438Z",
     "iopub.status.busy": "2020-10-05T05:48:42.283593Z",
     "iopub.status.idle": "2020-10-05T05:49:15.665041Z",
     "shell.execute_reply": "2020-10-05T05:49:15.665950Z"
    },
    "papermill": {
     "duration": 33.405523,
     "end_time": "2020-10-05T05:49:15.666197",
     "exception": false,
     "start_time": "2020-10-05T05:48:42.260674",
     "status": "completed"
    },
    "tags": []
   },
   "outputs": [],
   "source": [
    "from gensim.models import Word2Vec\n",
    "\n",
    "# used various window sizes, best value is \n",
    "model = Word2Vec(purchase, size=128, window=5, sg=1, hs=0, negative=5)"
   ]
  },
  {
   "cell_type": "markdown",
   "metadata": {
    "papermill": {
     "duration": 0.020167,
     "end_time": "2020-10-05T05:49:15.710130",
     "exception": false,
     "start_time": "2020-10-05T05:49:15.689963",
     "status": "completed"
    },
    "tags": []
   },
   "source": [
    "### Item clustering"
   ]
  },
  {
   "cell_type": "code",
   "execution_count": 10,
   "metadata": {
    "execution": {
     "iopub.execute_input": "2020-10-05T05:49:15.751394Z",
     "iopub.status.busy": "2020-10-05T05:49:15.750390Z",
     "iopub.status.idle": "2020-10-05T06:12:15.853025Z",
     "shell.execute_reply": "2020-10-05T06:12:15.853534Z"
    },
    "papermill": {
     "duration": 1380.124218,
     "end_time": "2020-10-05T06:12:15.853679",
     "exception": false,
     "start_time": "2020-10-05T05:49:15.729461",
     "status": "completed"
    },
    "tags": []
   },
   "outputs": [
    {
     "name": "stderr",
     "output_type": "stream",
     "text": [
      "/opt/conda/lib/python3.7/site-packages/ipykernel_launcher.py:5: DeprecationWarning: Call to deprecated `__getitem__` (Method will be removed in 4.0.0, use self.wv.__getitem__() instead).\n",
      "  \"\"\"\n"
     ]
    },
    {
     "data": {
      "text/plain": [
       "OPTICS(metric='cosine', min_samples=6, n_jobs=-1)"
      ]
     },
     "execution_count": 10,
     "metadata": {},
     "output_type": "execute_result"
    }
   ],
   "source": [
    "from sklearn.cluster import OPTICS\n",
    "\n",
    "vocab = model.wv.vocab\n",
    "cluster = OPTICS(min_samples=6, metric='cosine', n_jobs=-1)\n",
    "cluster.fit(model[vocab])"
   ]
  },
  {
   "cell_type": "code",
   "execution_count": 11,
   "metadata": {
    "execution": {
     "iopub.execute_input": "2020-10-05T06:12:15.903316Z",
     "iopub.status.busy": "2020-10-05T06:12:15.902502Z",
     "iopub.status.idle": "2020-10-05T06:12:15.906496Z",
     "shell.execute_reply": "2020-10-05T06:12:15.906971Z"
    },
    "papermill": {
     "duration": 0.033661,
     "end_time": "2020-10-05T06:12:15.907080",
     "exception": false,
     "start_time": "2020-10-05T06:12:15.873419",
     "status": "completed"
    },
    "tags": []
   },
   "outputs": [
    {
     "data": {
      "text/plain": [
       "38"
      ]
     },
     "execution_count": 11,
     "metadata": {},
     "output_type": "execute_result"
    }
   ],
   "source": [
    "len(set(cluster.labels_))"
   ]
  },
  {
   "cell_type": "code",
   "execution_count": 12,
   "metadata": {
    "execution": {
     "iopub.execute_input": "2020-10-05T06:12:15.962545Z",
     "iopub.status.busy": "2020-10-05T06:12:15.961734Z",
     "iopub.status.idle": "2020-10-05T06:12:15.965698Z",
     "shell.execute_reply": "2020-10-05T06:12:15.965135Z"
    },
    "papermill": {
     "duration": 0.038272,
     "end_time": "2020-10-05T06:12:15.965795",
     "exception": false,
     "start_time": "2020-10-05T06:12:15.927523",
     "status": "completed"
    },
    "tags": []
   },
   "outputs": [],
   "source": [
    "dic = {}\n",
    "index = 0\n",
    "for item in vocab:\n",
    "    dic[item] = cluster.labels_[index]\n",
    "    index += 1"
   ]
  },
  {
   "cell_type": "markdown",
   "metadata": {
    "papermill": {
     "duration": 0.021443,
     "end_time": "2020-10-05T06:12:16.008278",
     "exception": false,
     "start_time": "2020-10-05T06:12:15.986835",
     "status": "completed"
    },
    "tags": []
   },
   "source": [
    "### Save cluster group to file"
   ]
  },
  {
   "cell_type": "code",
   "execution_count": 13,
   "metadata": {
    "execution": {
     "iopub.execute_input": "2020-10-05T06:12:16.065158Z",
     "iopub.status.busy": "2020-10-05T06:12:16.064241Z",
     "iopub.status.idle": "2020-10-05T06:12:16.117977Z",
     "shell.execute_reply": "2020-10-05T06:12:16.117390Z"
    },
    "papermill": {
     "duration": 0.088823,
     "end_time": "2020-10-05T06:12:16.118085",
     "exception": false,
     "start_time": "2020-10-05T06:12:16.029262",
     "status": "completed"
    },
    "tags": []
   },
   "outputs": [],
   "source": [
    "from pickle import dump\n",
    "with open(\"cluster.pkl\",\"wb\") as file:\n",
    "    dump(dic, file, protocol=-1)"
   ]
  },
  {
   "cell_type": "code",
   "execution_count": null,
   "metadata": {
    "papermill": {
     "duration": 0.022039,
     "end_time": "2020-10-05T06:12:16.162673",
     "exception": false,
     "start_time": "2020-10-05T06:12:16.140634",
     "status": "completed"
    },
    "tags": []
   },
   "outputs": [],
   "source": []
  }
 ],
 "metadata": {
  "kernelspec": {
   "display_name": "Python 3",
   "language": "python",
   "name": "python3"
  },
  "language_info": {
   "codemirror_mode": {
    "name": "ipython",
    "version": 3
   },
   "file_extension": ".py",
   "mimetype": "text/x-python",
   "name": "python",
   "nbconvert_exporter": "python",
   "pygments_lexer": "ipython3",
   "version": "3.7.6"
  },
  "papermill": {
   "duration": 1865.111904,
   "end_time": "2020-10-05T06:12:16.292592",
   "environment_variables": {},
   "exception": null,
   "input_path": "__notebook__.ipynb",
   "output_path": "__notebook__.ipynb",
   "parameters": {},
   "start_time": "2020-10-05T05:41:11.180688",
   "version": "2.1.0"
  }
 },
 "nbformat": 4,
 "nbformat_minor": 4
}
